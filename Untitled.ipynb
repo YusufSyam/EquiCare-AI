{
 "cells": [
  {
   "cell_type": "code",
   "execution_count": 1,
   "id": "2a8ddc75-30cc-4e97-a314-5b0f5f9d98f9",
   "metadata": {},
   "outputs": [],
   "source": [
    "from src.rag_pipeline import build_rag_pipeline"
   ]
  },
  {
   "cell_type": "code",
   "execution_count": 2,
   "id": "8b13b67c-5d44-4b51-894e-04f66a490bfe",
   "metadata": {},
   "outputs": [
    {
     "name": "stderr",
     "output_type": "stream",
     "text": [
      "`torch_dtype` is deprecated! Use `dtype` instead!\n",
      "The `load_in_4bit` and `load_in_8bit` arguments are deprecated and will be removed in the future versions. Please, pass a `BitsAndBytesConfig` object in `quantization_config` argument instead.\n",
      "Device set to use cuda:0\n"
     ]
    },
    {
     "name": "stdout",
     "output_type": "stream",
     "text": [
      "docs [Document(id='e10bc871-761e-42b3-83df-533de659cefe', metadata={'name': 'colic', 'url': 'https://horsedvm.com/disease/colic', 'category': 'digestive', 'id': '55'}, page_content='Disease Name: colic\\nCategory: digestive\\nSymptoms: repeatedly getting up and down, rolling or attempting to roll, reduction in gut sounds, pawing the ground repeatedly, repeated kicking or biting at stomach, prolonged periods of laying down, stretching out as if to urinate, sitting in a dog-like position, decreased or absent feces, weight shifting, rapid respiration and/or flared nostrils, elevated pulse rate, depression, restlessness, sweating, diarrhea, dullness, frequently passing gas\\nDescription: colic is a term used to describe abdominal pain, that is one of the most common equine emergencies worldwide. colic has a reported incidence rate of 4-26 episodes per horse-years-at-risk, and a case fatality rate of 6.7-11% for horses living in the united kingdom and the united states. there are many risk factors that have been reported to be associated with an increased likelihood of colic. identified risk factors include:history of previous colic episodesagebreedfeed-associated: coarse feedstuffs, sudden changes in feed quantity or type, missed meals, poor water intake, ingestion of nonfood substances, ingestion of poisonous plants, feed management, hay quality, presence of mycotoxinsseasonally and weather influencedbehavior-associated: history of cribbing/windsuckinggeographically-associated: soil type, hay typepreventative-management-associated: internal parasite load, lack of routine dental caregeographically-associated: horses living in or originating from a particular geographic area are more at risk of developing specific types of colic. for example, horses living in areas with sandy soil are more at risk of developing sand colic and enterolithiasis than horses residing in clay soil areas. diet-associated: risk factors relating to diet are usually associated with increased incidences of gastrointestinal impaction. these include feeding too much grain, poor quality grain, course roughage with low digestibility or course fiber (such as coastal bermuda grass hay), feeding round bales, lush pasture, changes in hay or grain type, sudden changes in feed routine or quantity, and missed meals. common intestinal causes of colicwith colic, it is critical that it is recognized early by horse caretakers. however it is important to note that signs can vary greatly between horses based on their individual pain tolerance and severity of the pain they are experiencing. 90% of colic cases can be treated medically by the veterinarian if addressed promptly, however some require immediate emergency surgery to correct the problem. equine management practices should include a strong emphasis on colic-prevention and colic recognition. horses with a history of colic, living in more-colic prone regions, or during possible colic-associated weather patterns or seasons should receive increased attention during these periods. measures should be taken to ensure horses have access to, and are drinking enough water on a daily basis. some of these measures may include:adding water to feedfilling up water troughs or water buckets daily (studies have shown that horses tend to drink more when there is more water available to them)supplementing the diet with electrolytesproviding multiple fresh water sources'), Document(id='05a4098d-a486-43b5-9565-752274800376', metadata={'category': 'seniors', 'name': 'endocarditis', 'id': '78', 'url': 'https://horsedvm.com/disease/endocarditis-in-horses'}, page_content='Disease Name: endocarditis\\nCategory: seniors\\nSymptoms: heart murmurs, therapy-resistant or recurrent fever, depression, loss of appetite, weight loss, increased heart rate, intermittent lameness, signs of heart failure\\nDescription: endocarditis is a rare systemic disease affecting the cardiovascular system of the horse. it may include signs of predisposing disease, systemic inflammaion, immune-mediated host responses, thromboembolic complications, or metastatic infection. supraventriclar or ventricular arrhythmia may also be observed.'), Document(id='31040353-6c1a-43e6-833c-a815195b311b', metadata={'url': 'https://horsedvm.com/disease/equine-hyperlipidemia', 'id': '90', 'category': 'endocrinology', 'name': 'equine hyperlipidemia'}, page_content='Disease Name: equine hyperlipidemia\\nCategory: endocrinology\\nSymptoms: loss of appetite, weakness, ataxia, depression, jaundice, abdominal swelling, diarrhea, dysphagia, colic, muscle tremors, abortion, rapid weight loss, reduced fecal output, pyrexia, circling, head-pressing, convulsions, coma\\nDescription: equine hyperlipidemia is a severe, life-threatening medical condition that is seen predominately in miniature horses, donkeys and ponies. it occurs as a result of a sudden and significant breakdown of body fat stores. adult female animals with insulin resistance (ir), pregnant, or increased nutrient demands have a predisposition to hyperlipidemia. trigger factors for predisposed individuals include stress, pain, disease, inadequate feed intake, feed changes, and transportation. secondary hyperlipemia can occur with enterocolitis, dental disease, bacterial infections, colic impactions, and parasitism. secondary complications of hyperlipemia include hypovolemia, electrolyte imbalances and hepatorenal insufficiency.')]\n"
     ]
    }
   ],
   "source": [
    "rag_chain = build_rag_pipeline()"
   ]
  },
  {
   "cell_type": "code",
   "execution_count": 3,
   "id": "21c88afb-ac95-41e9-93a3-9e9afbd5ddb9",
   "metadata": {},
   "outputs": [],
   "source": [
    "user_query= \"my horse have colic, depression, loss of appetite, fever and irregular heart rhythm syptoms, what could be the disease?\""
   ]
  },
  {
   "cell_type": "code",
   "execution_count": 4,
   "id": "17220587-9faf-4550-857f-455d7ed4da1b",
   "metadata": {},
   "outputs": [
    {
     "name": "stderr",
     "output_type": "stream",
     "text": [
      "D:\\Code\\Python\\Tes\\NoLimit Technical Test\\horse_disease_detection\\venv\\Lib\\site-packages\\bitsandbytes\\autograd\\_functions.py:186: UserWarning: MatMul8bitLt: inputs will be cast from torch.bfloat16 to float16 during quantization\n",
      "  warnings.warn(f\"MatMul8bitLt: inputs will be cast from {A.dtype} to float16 during quantization\")\n"
     ]
    },
    {
     "data": {
      "text/plain": [
       "'\\nAs a highly knowledgeable veterinary assistant specialized in horse diseases, your role is to \\naccurately interpret equine health queries and provide responses using the given veterinary documents. \\nFollow these directives to ensure optimal user interactions:\\n\\n1. Precision in Answers:\\n   - Respond solely with information directly relevant to the user\\'s query from the veterinary documents. \\n   - Do not invent, assume, or speculate beyond the provided content.\\n\\n2. Topic Relevance:\\n   Limit your expertise strictly to horse-related veterinary knowledge, especially:\\n     - Equine diseases and symptoms\\n     - Diagnosis based on clinical signs\\n     - Recommended treatments and management\\n     - Preventive care and husbandry practices\\n\\n3. Handling Off-topic Queries:\\n   For questions unrelated to horses or veterinary medicine (e.g., \"Who won the World Cup?\"), \\n   politely inform the user that the query is outside this assistant’s scope and suggest focusing on horse health.\\n\\n4. Evidence-based Explanations:\\n   - Always ground your responses in the provided documents.\\n   - If information is incomplete, clearly state the limitation instead of making unsupported claims.\\n\\n5. Structured Response Format:\\n   Every answer must follow this structure:\\n   1. **Short Summary** (1–2 sentences, direct and clear).\\n   2. **Detailed Explanation** based on the retrieved veterinary documents.\\n   3. **Additional Notes or Recommendations** (if applicable, such as \"consult a veterinarian immediately\").\\n\\n6. Diagnosis Likelihood Rule:\\n   - If the user provides symptoms and the documents allow for a possible diagnosis:\\n       * Give **1 most likely disease** if the evidence is strong.\\n       * If uncertainty remains, provide up to **3 possible diseases**, ranked by likelihood.\\n       * Avoid listing more than 3 possibilities or giving non-prioritized long lists.\\n\\n7. Relevance Check:\\n   - If no relevant information is found in the documents, politely state that you cannot find an answer.\\n   - Encourage the user to rephrase the query if needed.\\n\\n8. Avoiding Duplication:\\n   Ensure no part of the response is unnecessarily repeated. Each sentence should add new, useful information.\\n\\n9. Streamlined Communication:\\n   Focus only on delivering clear, concise, and medically accurate information.\\n   Avoid filler text, unnecessary comments, or conversational sign-offs.\\n\\n10. Safety-first Guidance:\\n   Always remind users that while the assistant provides medical information, a licensed veterinarian \\n   should be consulted for an official diagnosis and treatment.\\n\\n---\\n\\nContext from documents:\\nDisease Name: colic\\nCategory: digestive\\nSymptoms: repeatedly getting up and down, rolling or attempting to roll, reduction in gut sounds, pawing the ground repeatedly, repeated kicking or biting at stomach, prolonged periods of laying down, stretching out as if to urinate, sitting in a dog-like position, decreased or absent feces, weight shifting, rapid respiration and/or flared nostrils, elevated pulse rate, depression, restlessness, sweating, diarrhea, dullness, frequently passing gas\\nDescription: colic is a term used to describe abdominal pain, that is one of the most common equine emergencies worldwide. colic has a reported incidence rate of 4-26 episodes per horse-years-at-risk, and a case fatality rate of 6.7-11% for horses living in the united kingdom and the united states. there are many risk factors that have been reported to be associated with an increased likelihood of colic. identified risk factors include:history of previous colic episodesagebreedfeed-associated: coarse feedstuffs, sudden changes in feed quantity or type, missed meals, poor water intake, ingestion of nonfood substances, ingestion of poisonous plants, feed management, hay quality, presence of mycotoxinsseasonally and weather influencedbehavior-associated: history of cribbing/windsuckinggeographically-associated: soil type, hay typepreventative-management-associated: internal parasite load, lack of routine dental caregeographically-associated: horses living in or originating from a particular geographic area are more at risk of developing specific types of colic. for example, horses living in areas with sandy soil are more at risk of developing sand colic and enterolithiasis than horses residing in clay soil areas. diet-associated: risk factors relating to diet are usually associated with increased incidences of gastrointestinal impaction. these include feeding too much grain, poor quality grain, course roughage with low digestibility or course fiber (such as coastal bermuda grass hay), feeding round bales, lush pasture, changes in hay or grain type, sudden changes in feed routine or quantity, and missed meals. common intestinal causes of colicwith colic, it is critical that it is recognized early by horse caretakers. however it is important to note that signs can vary greatly between horses based on their individual pain tolerance and severity of the pain they are experiencing. 90% of colic cases can be treated medically by the veterinarian if addressed promptly, however some require immediate emergency surgery to correct the problem. equine management practices should include a strong emphasis on colic-prevention and colic recognition. horses with a history of colic, living in more-colic prone regions, or during possible colic-associated weather patterns or seasons should receive increased attention during these periods. measures should be taken to ensure horses have access to, and are drinking enough water on a daily basis. some of these measures may include:adding water to feedfilling up water troughs or water buckets daily (studies have shown that horses tend to drink more when there is more water available to them)supplementing the diet with electrolytesproviding multiple fresh water sources\\n\\nDisease Name: endocarditis\\nCategory: seniors\\nSymptoms: heart murmurs, therapy-resistant or recurrent fever, depression, loss of appetite, weight loss, increased heart rate, intermittent lameness, signs of heart failure\\nDescription: endocarditis is a rare systemic disease affecting the cardiovascular system of the horse. it may include signs of predisposing disease, systemic inflammaion, immune-mediated host responses, thromboembolic complications, or metastatic infection. supraventriclar or ventricular arrhythmia may also be observed.\\n\\nDisease Name: equine hyperlipidemia\\nCategory: endocrinology\\nSymptoms: loss of appetite, weakness, ataxia, depression, jaundice, abdominal swelling, diarrhea, dysphagia, colic, muscle tremors, abortion, rapid weight loss, reduced fecal output, pyrexia, circling, head-pressing, convulsions, coma\\nDescription: equine hyperlipidemia is a severe, life-threatening medical condition that is seen predominately in miniature horses, donkeys and ponies. it occurs as a result of a sudden and significant breakdown of body fat stores. adult female animals with insulin resistance (ir), pregnant, or increased nutrient demands have a predisposition to hyperlipidemia. trigger factors for predisposed individuals include stress, pain, disease, inadequate feed intake, feed changes, and transportation. secondary hyperlipemia can occur with enterocolitis, dental disease, bacterial infections, colic impactions, and parasitism. secondary complications of hyperlipemia include hypovolemia, electrolyte imbalances and hepatorenal insufficiency.\\n\\nUser Question:\\nmy horse have colic, depression, loss of appetite, fever and irregular heart rhythm syptoms, what could be the disease?\\n\\nAnswer:\\n<|assistant|>\\nThe symptoms you\\'ve described—colic, depression, loss of appetite, fever, and irregular heart rhythm—are commonly associated with equine hyperlipidemia. This is a severe medical condition that can lead to a variety of systemic issues, including heart problems, as well as secondary complications such as hypovolemia, electrolyte imbalances, and hepatorenal insufficiency.\\n\\nGiven the symptoms you\\'ve listed, it\\'s important to consult with a veterinarian who can perform a thorough examination and diagnostic tests to confirm the diagnosis and provide appropriate treatment.\\n\\n**Potential Diagnoses:**\\n\\n1. **Equine Hyperlipidemia:** This is a critical condition where the body\\'s fat stores are rapidly depleted, leading to a range of systemic effects including heart problems, as well as secondary complications.\\n\\n2. **Colic:** While not a direct cause of hyperlipidemia, severe colic can lead to significant stress and metabolic changes that might contribute to the onset of this condition.\\n\\n3. **Hypovolemia:** This could be a secondary complication of hyperlipidemia, particularly if the horse is experiencing dehydration or fluid loss due to the metabolic stress.\\n\\n4. **Hepatorenal Insufficiency:** This is a condition where the liver and kidneys are unable to function properly, which can be exacerbated by the metabolic stress of hyperlipidemia.\\n\\n5. **Endocarditis:** Although this is a rare systemic disease affecting the cardiovascular system, it\\'s possible that the underlying metabolic stress could predispose the horse to this condition.\\n\\n**Treatment Considerations:**\\n\\nTreatment for hyperlipidemia typically involves managing the underlying cause, which might be dietary, stress-related, or related to other medical conditions. This could include:\\n\\n- **Dietary Management:** Ensuring the horse is eating a balanced diet, especially one that is high in quality forage and low in fat.\\n- **Stress Reduction:** Minimizing stress through proper management practices, such as regular exercise, a calm environment, and consistent routines.\\n- **Nutritional Support:** Providing supplements or electrolytes as needed to help maintain fluid balance and support metabolic processes.\\n- **Medication:** In some cases, medications might be prescribed to help manage the symptoms and underlying condition.\\n\\n**Important Note:**\\n\\nGiven the severity of the symptoms and the potential for complications, it is crucial that any treatment plan is developed and implemented under the guidance of a veterinarian. They will be able to provide the most appropriate and effective treatment based on the specific diagnosis and the horse\\'s condition.'"
      ]
     },
     "execution_count": 4,
     "metadata": {},
     "output_type": "execute_result"
    }
   ],
   "source": [
    "result2 = rag_chain.invoke({\"input\": user_query})\n",
    "bot_response = result2[\"answer\"]\n",
    "\n",
    "bot_response"
   ]
  },
  {
   "cell_type": "code",
   "execution_count": 14,
   "id": "a1c60c37-9137-4427-a906-569f5bfa7416",
   "metadata": {},
   "outputs": [
    {
     "data": {
      "text/plain": [
       "3"
      ]
     },
     "execution_count": 14,
     "metadata": {},
     "output_type": "execute_result"
    }
   ],
   "source": [
    "result2['context']"
   ]
  },
  {
   "cell_type": "code",
   "execution_count": 5,
   "id": "3aa84867-8098-4e2a-bfdd-62977bcf6014",
   "metadata": {},
   "outputs": [],
   "source": [
    "answerForeword= \"Answer:\"\n",
    "# answerForeword= \"Answer(ONLY provide the answer, do NOT repeat the instructions or context):\""
   ]
  },
  {
   "cell_type": "code",
   "execution_count": 6,
   "id": "a7ab5369-17ec-44bf-8b4d-8d0fca1c4982",
   "metadata": {},
   "outputs": [
    {
     "data": {
      "text/plain": [
       "\"<|assistant|>\\nThe symptoms you've described—colic, depression, loss of appetite, fever, and irregular heart rhythm—are commonly associated with equine hyperlipidemia. This is a severe medical condition that can lead to a variety of systemic issues, including heart problems, as well as secondary complications such as hypovolemia, electrolyte imbalances, and hepatorenal insufficiency.\\n\\nGiven the symptoms you've listed, it's important to consult with a veterinarian who can perform a thorough examination and diagnostic tests to confirm the diagnosis and provide appropriate treatment.\\n\\n**Potential Diagnoses:**\\n\\n1. **Equine Hyperlipidemia:** This is a critical condition where the body's fat stores are rapidly depleted, leading to a range of systemic effects including heart problems, as well as secondary complications.\\n\\n2. **Colic:** While not a direct cause of hyperlipidemia, severe colic can lead to significant stress and metabolic changes that might contribute to the onset of this condition.\\n\\n3. **Hypovolemia:** This could be a secondary complication of hyperlipidemia, particularly if the horse is experiencing dehydration or fluid loss due to the metabolic stress.\\n\\n4. **Hepatorenal Insufficiency:** This is a condition where the liver and kidneys are unable to function properly, which can be exacerbated by the metabolic stress of hyperlipidemia.\\n\\n5. **Endocarditis:** Although this is a rare systemic disease affecting the cardiovascular system, it's possible that the underlying metabolic stress could predispose the horse to this condition.\\n\\n**Treatment Considerations:**\\n\\nTreatment for hyperlipidemia typically involves managing the underlying cause, which might be dietary, stress-related, or related to other medical conditions. This could include:\\n\\n- **Dietary Management:** Ensuring the horse is eating a balanced diet, especially one that is high in quality forage and low in fat.\\n- **Stress Reduction:** Minimizing stress through proper management practices, such as regular exercise, a calm environment, and consistent routines.\\n- **Nutritional Support:** Providing supplements or electrolytes as needed to help maintain fluid balance and support metabolic processes.\\n- **Medication:** In some cases, medications might be prescribed to help manage the symptoms and underlying condition.\\n\\n**Important Note:**\\n\\nGiven the severity of the symptoms and the potential for complications, it is crucial that any treatment plan is developed and implemented under the guidance of a veterinarian. They will be able to provide the most appropriate and effective treatment based on the specific diagnosis and the horse's condition.\""
      ]
     },
     "execution_count": 6,
     "metadata": {},
     "output_type": "execute_result"
    }
   ],
   "source": [
    "answer_start = bot_response.find(answerForeword) + len(answerForeword)\n",
    "answer = bot_response[answer_start:].strip()\n",
    "\n",
    "answer"
   ]
  },
  {
   "cell_type": "markdown",
   "id": "c6ec0a34-6e86-4f4d-92cb-41e41bfc1ec9",
   "metadata": {},
   "source": [
    "<|assistant|>\\nThe symptoms you've described—colic, depression, loss of appetite, fever, and irregular heart rhythm—are commonly associated with equine hyperlipidemia. This is a severe medical condition that can lead to a variety of systemic issues, including heart problems, as well as secondary complications such as hypovolemia, electrolyte imbalances, and hepatorenal insufficiency.\\n\\nGiven the symptoms you've listed, it's important to consult with a veterinarian who can perform a thorough examination and diagnostic tests to confirm the diagnosis and provide appropriate treatment.\\n\\n**Potential Diagnoses:**\\n\\n1. **Equine Hyperlipidemia:** This is a critical condition where the body's fat stores are rapidly depleted, leading to a range of systemic effects including heart problems, as well as secondary complications.\\n\\n2. **Colic:** While not a direct cause of hyperlipidemia, severe colic can lead to significant stress and metabolic changes that might contribute to the onset of this condition.\\n\\n3. **Hypovolemia:** This could be a secondary complication of hyperlipidemia, particularly if the horse is experiencing dehydration or fluid loss due to the metabolic stress.\\n\\n4. **Hepatorenal Insufficiency:** This is a condition where the liver and kidneys are unable to function properly, which can be exacerbated by the metabolic stress of hyperlipidemia.\\n\\n5. **Endocarditis:** Although this is a rare systemic disease affecting the cardiovascular system, it's possible that the underlying metabolic stress could predispose the horse to this condition.\\n\\n**Treatment Considerations:**\\n\\nTreatment for hyperlipidemia typically involves managing the underlying cause, which might be dietary, stress-related, or related to other medical conditions. This could include:\\n\\n- **Dietary Management:** Ensuring the horse is eating a balanced diet, especially one that is high in quality forage and low in fat.\\n- **Stress Reduction:** Minimizing stress through proper management practices, such as regular exercise, a calm environment, and consistent routines.\\n- **Nutritional Support:** Providing supplements or electrolytes as needed to help maintain fluid balance and support metabolic processes.\\n- **Medication:** In some cases, medications might be prescribed to help manage the symptoms and underlying condition.\\n\\n**Important Note:**\\n\\nGiven the severity of the symptoms and the potential for complications, it is crucial that any treatment plan is developed and implemented under the guidance of a veterinarian. They will be able to provide the most appropriate and effective treatment based on the specific diagnosis and the horse's condition."
   ]
  },
  {
   "cell_type": "markdown",
   "id": "2fa9fa0a-fcc5-4518-912b-b55b054b9ce8",
   "metadata": {},
   "source": [
    "nAs a highly knowledgeable veterinary assistant specialized in horse diseases, your role is to \\naccurately interpret equine health queries and provide responses using the given veterinary documents. \\nFollow these directives to ensure optimal user interactions:\\n\\n1. Precision in Answers:\\n   - Respond solely with information directly relevant to the user\\'s query from the veterinary documents. \\n   - Do not invent, assume, or speculate beyond the provided content.\\n\\n2. Topic Relevance:\\n   Limit your expertise strictly to horse-related veterinary knowledge, especially:\\n     - Equine diseases and symptoms\\n     - Diagnosis based on clinical signs\\n     - Recommended treatments and management\\n     - Preventive care and husbandry practices\\n\\n3. Handling Off-topic Queries:\\n   For questions unrelated to horses or veterinary medicine (e.g., \"Who won the World Cup?\"), \\n   politely inform the user that the query is outside this assistant’s scope and suggest focusing on horse health.\\n\\n4. Evidence-based Explanations:\\n   - Always ground your responses in the provided documents.\\n   - If information is incomplete, clearly state the limitation instead of making unsupported claims.\\n\\n5. Structured Response Format:\\n   Every answer must follow this structure:\\n   1. **Short Summary** (1–2 sentences, direct and clear).\\n   2. **Detailed Explanation** based on the retrieved veterinary documents.\\n   3. **Additional Notes or Recommendations** (if applicable, such as \"consult a veterinarian immediately\").\\n\\n6. Diagnosis Likelihood Rule:\\n   - If the user provides symptoms and the documents allow for a possible diagnosis:\\n       * Give **1 most likely disease** if the evidence is strong.\\n       * If uncertainty remains, provide up to **3 possible diseases**, ranked by likelihood.\\n       * Avoid listing more than 3 possibilities or giving non-prioritized long lists.\\n\\n7. Relevance Check:\\n   - If no relevant information is found in the documents, politely state that you cannot find an answer.\\n   - Encourage the user to rephrase the query if needed.\\n\\n8. Avoiding Duplication:\\n   Ensure no part of the response is unnecessarily repeated. Each sentence should add new, useful information.\\n\\n9. Streamlined Communication:\\n   Focus only on delivering clear, concise, and medically accurate information.\\n   Avoid filler text, unnecessary comments, or conversational sign-offs.\\n\\n10. Safety-first Guidance:\\n   Always remind users that while the assistant provides medical information, a licensed veterinarian \\n   should be consulted for an official diagnosis and treatment.\\n\\n---\\n\\nContext from documents:\\n\\n\\nUser Question:\\nmy horse have colic, depression, loss of appetite, fever and irregular heart rhythm syptoms, what could be the disease?\\n\\nAnswer:\\n\\n**Short Summary:**\\nThe symptoms of colic, depression, loss of appetite, fever, and irregular heart rhythm in a horse could indicate a variety of potential diseases.\\n\\n**Detailed Explanation:**\\n\\nBased on the symptoms provided, the horse may be suffering from several conditions that affect the digestive and cardiovascular systems:\\n\\n1. **Colic**: This is a common gastrointestinal disorder characterized by abdominal pain, which can range from mild to severe. Colic in horses can be caused by a variety of factors including dietary indiscretions, parasites, or even stress.\\n\\n2. **Depression**: This term is often used metaphorically to describe a horse\\'s behavior, such as being lethargic or showing signs of anxiety. Depression in horses can be due to stress, lack of exercise, or other environmental factors.\\n\\n3. **Loss of Appetite**: This symptom can be indicative of numerous conditions, including gastrointestinal issues, infections, or nutritional deficiencies.\\n\\n4. **Fever**: A fever in a horse can be a sign of infection, inflammation, or other systemic diseases. It\\'s crucial to monitor the horse\\'s temperature and overall condition to determine the underlying cause.\\n\\n5. **Irregular Heart Rhythm (Arrhythmia)**: This can be a sign of heart disease, electrolyte imbalances, or other cardiac issues. It\\'s important to assess the heart\\'s rhythm and possibly consult with a veterinarian for a proper diagnosis.\\n\\n**Additional Notes or Recommendations:**\\n\\nGiven the severity of the symptoms and the potential seriousness of these conditions, it is strongly recommended that the horse be evaluated by a veterinarian. They can provide a definitive diagnosis and recommend appropriate treatment, which may include medication, dietary changes, or other interventions.\\n\\n**Diagnosis Likelihood Rule:**\\n\\nGiven the symptoms, the most likely disease is likely to be **Colic**, as it is a common gastrointestinal issue in horses. However, the possibility of other conditions such as depression, gastrointestinal infection, or heart disease cannot be entirely ruled out without further examination.\\n\\n**Relevance Check:**\\n\\nThe provided symptoms align with the signs of colic, depression, and irregular heart rhythm. However, the lack of specific details makes it challenging to definitively diagnose the exact condition. It is recommended to seek professional veterinary advice for a thorough assessment.\\n\\n**Avoiding Duplication:**\\n\\nThe response is structured to provide a clear, concise, and medically accurate answer, adhering to the guidelines provided.\\n\\n**Streamlined Communication:**\\n\\nThe response is succinct, focusing on the most relevant information from the veterinary documents. It adheres to the safety-first guidance, reminding the user of the need for professional veterinary consultation.\\n\\n**Safety-first Guidance:**\\n\\nThe final response emphasizes the importance of seeking professional veterinary care, reinforcing the critical role of a veterinarian in diagnosing and treating equine health issues."
   ]
  },
  {
   "cell_type": "code",
   "execution_count": null,
   "id": "a620ea8b-0f45-4447-8905-f50322353683",
   "metadata": {},
   "outputs": [],
   "source": []
  },
  {
   "cell_type": "code",
   "execution_count": 7,
   "id": "7ea6a93f-8baa-49c4-afb8-9cd56417d014",
   "metadata": {},
   "outputs": [
    {
     "name": "stderr",
     "output_type": "stream",
     "text": [
      "D:\\Code\\Python\\Tes\\NoLimit Technical Test\\horse_disease_detection\\venv\\Lib\\site-packages\\bitsandbytes\\autograd\\_functions.py:186: UserWarning: MatMul8bitLt: inputs will be cast from torch.bfloat16 to float16 during quantization\n",
      "  warnings.warn(f\"MatMul8bitLt: inputs will be cast from {A.dtype} to float16 during quantization\")\n"
     ]
    },
    {
     "data": {
      "text/plain": [
       "\"\\n        You are an expert, helpful and knowledgeable veterinary assistant for horses. \\n        Use the provided medical documents to answer the user’s question. \\n        If relevant information is found, provide a clear, accurate, and detailed explanation. \\n        If no relevant information is available, politely state that you cannot find the answer.\\n\\n        Structure your response in the following format:\\n        1. Short Summary (1–2 sentences).\\n        2. Detailed Explanation based on the documents.\\n        3. Additional Notes or Recommendations (if any).\\n\\n        ---\\n        Context from documents:\\n        \\n\\n        ---\\n        User Question:\\n        my horse have colic, depression, loss of appetite, fever and irregular heart rhythm syptoms, what could be the disease?\\n\\n        Answer(ONLY provide the answer, do NOT repeat the instructions or context):\\n                \\n\\n\\n\\n\\n<|assistant|>\\nSummary: The symptoms of colic, depression, loss of appetite, fever, and irregular heart rhythm in a horse could be indicative of several conditions, including but not limited to metabolic disorders, gastrointestinal issues, and endocrine imbalances.\\n\\nDetailed Explanation:\\n\\n1. **Colic**: Colic is a broad term for abdominal pain in horses. It can be caused by various factors such as gas accumulation, intestinal obstruction, or inflammation. The pain can range from mild to severe and is often accompanied by other symptoms like depression, loss of appetite, fever, and irregular heart rhythm.\\n\\n2. **Depression**: Depression in horses can be a sign of underlying health issues, including metabolic disorders, infections, or even stress. It's important to rule out other conditions that could mimic depression, such as laminitis or laminitis-related issues.\\n\\n3. **Loss of Appetite**: A loss of appetite can be a symptom of various gastrointestinal disorders, infections, or metabolic imbalances. It's crucial to assess the horse's overall condition and consult with a veterinarian to determine the cause.\\n\\n4. **Fever**: Fever in horses can be a sign of infection, inflammation, or other\""
      ]
     },
     "execution_count": 7,
     "metadata": {},
     "output_type": "execute_result"
    }
   ],
   "source": [
    "result = rag_chain.invoke({\"input\": user_query})\n",
    "bot_response = result[\"answer\"]\n",
    "\n",
    "bot_response"
   ]
  }
 ],
 "metadata": {
  "kernelspec": {
   "display_name": "Python 3 (ipykernel)",
   "language": "python",
   "name": "python3"
  },
  "language_info": {
   "codemirror_mode": {
    "name": "ipython",
    "version": 3
   },
   "file_extension": ".py",
   "mimetype": "text/x-python",
   "name": "python",
   "nbconvert_exporter": "python",
   "pygments_lexer": "ipython3",
   "version": "3.13.2"
  }
 },
 "nbformat": 4,
 "nbformat_minor": 5
}
